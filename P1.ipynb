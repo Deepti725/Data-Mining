{
 "cells": [
  {
   "cell_type": "code",
   "execution_count": 5,
   "metadata": {},
   "outputs": [],
   "source": [
    "    import pandas as pd\n",
    "    df = ({'Age': [21,2,18,221,34], \n",
    "     'agegroup':['adult','child','adult','elderly','child'],\n",
    "      'height': [6,3,5.7,5,-7], \n",
    "      'status': ['single','married','married','widowed','married'], \n",
    "      'yearsmarried': [-1,0,20,2,3]\n",
    "     })"
   ]
  },
  {
   "cell_type": "code",
   "execution_count": 6,
   "metadata": {},
   "outputs": [],
   "source": [
    "df = pd.DataFrame(df)"
   ]
  },
  {
   "cell_type": "code",
   "execution_count": 7,
   "metadata": {},
   "outputs": [
    {
     "data": {
      "text/html": [
       "<div>\n",
       "<style scoped>\n",
       "    .dataframe tbody tr th:only-of-type {\n",
       "        vertical-align: middle;\n",
       "    }\n",
       "\n",
       "    .dataframe tbody tr th {\n",
       "        vertical-align: top;\n",
       "    }\n",
       "\n",
       "    .dataframe thead th {\n",
       "        text-align: right;\n",
       "    }\n",
       "</style>\n",
       "<table border=\"1\" class=\"dataframe\">\n",
       "  <thead>\n",
       "    <tr style=\"text-align: right;\">\n",
       "      <th></th>\n",
       "      <th>Age</th>\n",
       "      <th>agegroup</th>\n",
       "      <th>height</th>\n",
       "      <th>status</th>\n",
       "      <th>yearsmarried</th>\n",
       "    </tr>\n",
       "  </thead>\n",
       "  <tbody>\n",
       "    <tr>\n",
       "      <td>0</td>\n",
       "      <td>21</td>\n",
       "      <td>adult</td>\n",
       "      <td>6.0</td>\n",
       "      <td>single</td>\n",
       "      <td>-1</td>\n",
       "    </tr>\n",
       "    <tr>\n",
       "      <td>1</td>\n",
       "      <td>2</td>\n",
       "      <td>child</td>\n",
       "      <td>3.0</td>\n",
       "      <td>married</td>\n",
       "      <td>0</td>\n",
       "    </tr>\n",
       "    <tr>\n",
       "      <td>2</td>\n",
       "      <td>18</td>\n",
       "      <td>adult</td>\n",
       "      <td>5.7</td>\n",
       "      <td>married</td>\n",
       "      <td>20</td>\n",
       "    </tr>\n",
       "    <tr>\n",
       "      <td>3</td>\n",
       "      <td>221</td>\n",
       "      <td>elderly</td>\n",
       "      <td>5.0</td>\n",
       "      <td>widowed</td>\n",
       "      <td>2</td>\n",
       "    </tr>\n",
       "    <tr>\n",
       "      <td>4</td>\n",
       "      <td>34</td>\n",
       "      <td>child</td>\n",
       "      <td>-7.0</td>\n",
       "      <td>married</td>\n",
       "      <td>3</td>\n",
       "    </tr>\n",
       "  </tbody>\n",
       "</table>\n",
       "</div>"
      ],
      "text/plain": [
       "   Age agegroup  height   status  yearsmarried\n",
       "0   21    adult     6.0   single            -1\n",
       "1    2    child     3.0  married             0\n",
       "2   18    adult     5.7  married            20\n",
       "3  221  elderly     5.0  widowed             2\n",
       "4   34    child    -7.0  married             3"
      ]
     },
     "execution_count": 7,
     "metadata": {},
     "output_type": "execute_result"
    }
   ],
   "source": [
    "df"
   ]
  },
  {
   "cell_type": "code",
   "execution_count": 8,
   "metadata": {},
   "outputs": [],
   "source": [
    "df.to_csv('people.txt',index = None)"
   ]
  },
  {
   "cell_type": "code",
   "execution_count": 9,
   "metadata": {},
   "outputs": [],
   "source": [
    "df = pd.read_csv('people.txt', delimiter =',')"
   ]
  },
  {
   "cell_type": "code",
   "execution_count": 10,
   "metadata": {},
   "outputs": [
    {
     "data": {
      "text/html": [
       "<div>\n",
       "<style scoped>\n",
       "    .dataframe tbody tr th:only-of-type {\n",
       "        vertical-align: middle;\n",
       "    }\n",
       "\n",
       "    .dataframe tbody tr th {\n",
       "        vertical-align: top;\n",
       "    }\n",
       "\n",
       "    .dataframe thead th {\n",
       "        text-align: right;\n",
       "    }\n",
       "</style>\n",
       "<table border=\"1\" class=\"dataframe\">\n",
       "  <thead>\n",
       "    <tr style=\"text-align: right;\">\n",
       "      <th></th>\n",
       "      <th>Age</th>\n",
       "      <th>agegroup</th>\n",
       "      <th>height</th>\n",
       "      <th>status</th>\n",
       "      <th>yearsmarried</th>\n",
       "    </tr>\n",
       "  </thead>\n",
       "  <tbody>\n",
       "    <tr>\n",
       "      <td>0</td>\n",
       "      <td>21</td>\n",
       "      <td>adult</td>\n",
       "      <td>6.0</td>\n",
       "      <td>single</td>\n",
       "      <td>-1</td>\n",
       "    </tr>\n",
       "    <tr>\n",
       "      <td>1</td>\n",
       "      <td>2</td>\n",
       "      <td>child</td>\n",
       "      <td>3.0</td>\n",
       "      <td>married</td>\n",
       "      <td>0</td>\n",
       "    </tr>\n",
       "    <tr>\n",
       "      <td>2</td>\n",
       "      <td>18</td>\n",
       "      <td>adult</td>\n",
       "      <td>5.7</td>\n",
       "      <td>married</td>\n",
       "      <td>20</td>\n",
       "    </tr>\n",
       "    <tr>\n",
       "      <td>3</td>\n",
       "      <td>221</td>\n",
       "      <td>elderly</td>\n",
       "      <td>5.0</td>\n",
       "      <td>widowed</td>\n",
       "      <td>2</td>\n",
       "    </tr>\n",
       "    <tr>\n",
       "      <td>4</td>\n",
       "      <td>34</td>\n",
       "      <td>child</td>\n",
       "      <td>-7.0</td>\n",
       "      <td>married</td>\n",
       "      <td>3</td>\n",
       "    </tr>\n",
       "  </tbody>\n",
       "</table>\n",
       "</div>"
      ],
      "text/plain": [
       "   Age agegroup  height   status  yearsmarried\n",
       "0   21    adult     6.0   single            -1\n",
       "1    2    child     3.0  married             0\n",
       "2   18    adult     5.7  married            20\n",
       "3  221  elderly     5.0  widowed             2\n",
       "4   34    child    -7.0  married             3"
      ]
     },
     "execution_count": 10,
     "metadata": {},
     "output_type": "execute_result"
    }
   ],
   "source": [
    "df"
   ]
  },
  {
   "cell_type": "code",
   "execution_count": 27,
   "metadata": {},
   "outputs": [],
   "source": [
    "class RuleSet():\n",
    "    def __init__(self):\n",
    "        self.df = pd.read_csv('people.txt', delimiter =',')\n",
    "        \n",
    "    def check_age_range(self, start,end):\n",
    "        '''\n",
    "            check whether data is in range or not\n",
    "        '''\n",
    "        age_df = self.df['Age']\n",
    "        result = age_df > start\n",
    "        mid =  age_df[result]\n",
    "        result = mid < end\n",
    "        age_df = self.df[result]\n",
    "        print(age_df)\n",
    "        \n",
    "    def check_age_gt_married(self):\n",
    "        years_married = self.df['yearsmarried']\n",
    "        ages = self.df['Age']\n",
    "        result = ages>years_married\n",
    "        print(self.df[result])\n",
    "        \n",
    "    def check_status(self):\n",
    "        '''\n",
    "            check whether it belongs to among three only: married,single,widowed\n",
    "        '''\n",
    "        \n",
    "        status = self.df['status']\n",
    "        result = True\n",
    "        for ele in status:\n",
    "            if ele =='married' or ele =='single' or ele =='widowed':\n",
    "                pass\n",
    "            else:\n",
    "                result= False\n",
    "        return result\n",
    "    \n",
    "    def check_agetype(self):\n",
    "        agetype = self.df['agegroup']\n",
    "        ages = self.df['Age']\n",
    "        length = ages.shape[0]\n",
    "        for i in range(length):\n",
    "#             print(age[i],agetype[i])\n",
    "#             print (i)\n",
    "#             print(type(age[i]),type(agetype[i]))\n",
    "            if ages[i] <18 and agetype[i]!='child':\n",
    "                print('False at : ',ages[i],agetype[i])\n",
    "                return False\n",
    "            elif  ages[i] >=18 and ages[i]<65 and agetype[i]!='adult':\n",
    "                print('False at : ',ages[i],agetype[i])\n",
    "                return False\n",
    "            elif ages[i] >=65 and agetype[i]!='elderly':\n",
    "                print('False at : ', ages[i],agetype[i])\n",
    "                return False\n",
    "            \n",
    "        return True"
   ]
  },
  {
   "cell_type": "code",
   "execution_count": 28,
   "metadata": {},
   "outputs": [],
   "source": [
    "s = RuleSet()"
   ]
  },
  {
   "cell_type": "code",
   "execution_count": 29,
   "metadata": {},
   "outputs": [
    {
     "name": "stdout",
     "output_type": "stream",
     "text": [
      "   Age agegroup  height   status  yearsmarried\n",
      "0   21    adult     6.0   single            -1\n",
      "1    2    child     3.0  married             0\n",
      "2   18    adult     5.7  married            20\n",
      "4   34    child    -7.0  married             3\n"
     ]
    }
   ],
   "source": [
    "s.check_age_range(0,150)"
   ]
  },
  {
   "cell_type": "code",
   "execution_count": 30,
   "metadata": {},
   "outputs": [
    {
     "name": "stdout",
     "output_type": "stream",
     "text": [
      "   Age agegroup  height   status  yearsmarried\n",
      "0   21    adult     6.0   single            -1\n",
      "1    2    child     3.0  married             0\n",
      "3  221  elderly     5.0  widowed             2\n",
      "4   34    child    -7.0  married             3\n"
     ]
    }
   ],
   "source": [
    "s.check_age_gt_married()"
   ]
  },
  {
   "cell_type": "code",
   "execution_count": 31,
   "metadata": {},
   "outputs": [
    {
     "name": "stdout",
     "output_type": "stream",
     "text": [
      "False at :  34 child\n"
     ]
    },
    {
     "data": {
      "text/plain": [
       "False"
      ]
     },
     "execution_count": 31,
     "metadata": {},
     "output_type": "execute_result"
    }
   ],
   "source": [
    "s.check_agetype()"
   ]
  },
  {
   "cell_type": "code",
   "execution_count": 32,
   "metadata": {},
   "outputs": [
    {
     "data": {
      "text/plain": [
       "<matplotlib.axes._subplots.AxesSubplot at 0x814c8360c8>"
      ]
     },
     "execution_count": 32,
     "metadata": {},
     "output_type": "execute_result"
    },
    {
     "data": {
      "image/png": "[encoded data removed]",
      "text/plain": [
       "<Figure size 576x576 with 1 Axes>"
      ]
     },
     "metadata": {
      "needs_background": "light"
     },
     "output_type": "display_data"
    }
   ],
   "source": [
    "%matplotlib inline\n",
    "df.plot(kind = 'bar',figsize=(8,8))"
   ]
  },
  {
   "cell_type": "code",
   "execution_count": null,
   "metadata": {},
   "outputs": [],
   "source": []
  }
 ],
 "metadata": {
  "kernelspec": {
   "display_name": "Python 3",
   "language": "python",
   "name": "python3"
  },
  "language_info": {
   "codemirror_mode": {
    "name": "ipython",
    "version": 3
   },
   "file_extension": ".py",
   "mimetype": "text/x-python",
   "name": "python",
   "nbconvert_exporter": "python",
   "pygments_lexer": "ipython3",
   "version": "3.7.4"
  }
 },
 "nbformat": 4,
 "nbformat_minor": 2
}
